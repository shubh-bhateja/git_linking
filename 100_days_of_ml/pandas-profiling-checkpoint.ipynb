{
 "cells": [
  {
   "cell_type": "code",
   "execution_count": 1,
   "metadata": {},
   "outputs": [],
   "source": [
    "import pandas as pd \n",
    "import numpy as np\n",
    "import seaborn as sns\n"
   ]
  },
  {
   "cell_type": "code",
   "execution_count": 3,
   "metadata": {},
   "outputs": [],
   "source": [
    "df = pd.read_csv(\"titanic.csv\")"
   ]
  },
  {
   "cell_type": "code",
   "execution_count": 4,
   "metadata": {},
   "outputs": [
    {
     "data": {
      "text/html": [
       "<div>\n",
       "<style scoped>\n",
       "    .dataframe tbody tr th:only-of-type {\n",
       "        vertical-align: middle;\n",
       "    }\n",
       "\n",
       "    .dataframe tbody tr th {\n",
       "        vertical-align: top;\n",
       "    }\n",
       "\n",
       "    .dataframe thead th {\n",
       "        text-align: right;\n",
       "    }\n",
       "</style>\n",
       "<table border=\"1\" class=\"dataframe\">\n",
       "  <thead>\n",
       "    <tr style=\"text-align: right;\">\n",
       "      <th></th>\n",
       "      <th>PassengerId</th>\n",
       "      <th>Survived</th>\n",
       "      <th>Pclass</th>\n",
       "      <th>Name</th>\n",
       "      <th>Sex</th>\n",
       "      <th>Age</th>\n",
       "      <th>SibSp</th>\n",
       "      <th>Parch</th>\n",
       "      <th>Ticket</th>\n",
       "      <th>Fare</th>\n",
       "      <th>Cabin</th>\n",
       "      <th>Embarked</th>\n",
       "    </tr>\n",
       "  </thead>\n",
       "  <tbody>\n",
       "    <tr>\n",
       "      <th>292</th>\n",
       "      <td>293</td>\n",
       "      <td>0</td>\n",
       "      <td>2</td>\n",
       "      <td>Levy, Mr. Rene Jacques</td>\n",
       "      <td>male</td>\n",
       "      <td>36.0</td>\n",
       "      <td>0</td>\n",
       "      <td>0</td>\n",
       "      <td>SC/Paris 2163</td>\n",
       "      <td>12.8750</td>\n",
       "      <td>D</td>\n",
       "      <td>C</td>\n",
       "    </tr>\n",
       "    <tr>\n",
       "      <th>457</th>\n",
       "      <td>458</td>\n",
       "      <td>1</td>\n",
       "      <td>1</td>\n",
       "      <td>Kenyon, Mrs. Frederick R (Marion)</td>\n",
       "      <td>female</td>\n",
       "      <td>NaN</td>\n",
       "      <td>1</td>\n",
       "      <td>0</td>\n",
       "      <td>17464</td>\n",
       "      <td>51.8625</td>\n",
       "      <td>D21</td>\n",
       "      <td>S</td>\n",
       "    </tr>\n",
       "    <tr>\n",
       "      <th>259</th>\n",
       "      <td>260</td>\n",
       "      <td>1</td>\n",
       "      <td>2</td>\n",
       "      <td>Parrish, Mrs. (Lutie Davis)</td>\n",
       "      <td>female</td>\n",
       "      <td>50.0</td>\n",
       "      <td>0</td>\n",
       "      <td>1</td>\n",
       "      <td>230433</td>\n",
       "      <td>26.0000</td>\n",
       "      <td>NaN</td>\n",
       "      <td>S</td>\n",
       "    </tr>\n",
       "    <tr>\n",
       "      <th>276</th>\n",
       "      <td>277</td>\n",
       "      <td>0</td>\n",
       "      <td>3</td>\n",
       "      <td>Lindblom, Miss. Augusta Charlotta</td>\n",
       "      <td>female</td>\n",
       "      <td>45.0</td>\n",
       "      <td>0</td>\n",
       "      <td>0</td>\n",
       "      <td>347073</td>\n",
       "      <td>7.7500</td>\n",
       "      <td>NaN</td>\n",
       "      <td>S</td>\n",
       "    </tr>\n",
       "    <tr>\n",
       "      <th>490</th>\n",
       "      <td>491</td>\n",
       "      <td>0</td>\n",
       "      <td>3</td>\n",
       "      <td>Hagland, Mr. Konrad Mathias Reiersen</td>\n",
       "      <td>male</td>\n",
       "      <td>NaN</td>\n",
       "      <td>1</td>\n",
       "      <td>0</td>\n",
       "      <td>65304</td>\n",
       "      <td>19.9667</td>\n",
       "      <td>NaN</td>\n",
       "      <td>S</td>\n",
       "    </tr>\n",
       "  </tbody>\n",
       "</table>\n",
       "</div>"
      ],
      "text/plain": [
       "     PassengerId  Survived  Pclass                                  Name  \\\n",
       "292          293         0       2                Levy, Mr. Rene Jacques   \n",
       "457          458         1       1     Kenyon, Mrs. Frederick R (Marion)   \n",
       "259          260         1       2           Parrish, Mrs. (Lutie Davis)   \n",
       "276          277         0       3     Lindblom, Miss. Augusta Charlotta   \n",
       "490          491         0       3  Hagland, Mr. Konrad Mathias Reiersen   \n",
       "\n",
       "        Sex   Age  SibSp  Parch         Ticket     Fare Cabin Embarked  \n",
       "292    male  36.0      0      0  SC/Paris 2163  12.8750     D        C  \n",
       "457  female   NaN      1      0          17464  51.8625   D21        S  \n",
       "259  female  50.0      0      1         230433  26.0000   NaN        S  \n",
       "276  female  45.0      0      0         347073   7.7500   NaN        S  \n",
       "490    male   NaN      1      0          65304  19.9667   NaN        S  "
      ]
     },
     "execution_count": 4,
     "metadata": {},
     "output_type": "execute_result"
    }
   ],
   "source": [
    "df.sample(5)"
   ]
  },
  {
   "cell_type": "code",
   "execution_count": 6,
   "metadata": {},
   "outputs": [
    {
     "name": "stdout",
     "output_type": "stream",
     "text": [
      "Requirement already satisfied: pandas-profiling in c:\\users\\shubh bhateja\\appdata\\local\\programs\\python\\python312\\lib\\site-packages (3.2.0)\n",
      "Requirement already satisfied: joblib~=1.1.0 in c:\\users\\shubh bhateja\\appdata\\local\\programs\\python\\python312\\lib\\site-packages (from pandas-profiling) (1.1.1)\n",
      "Requirement already satisfied: scipy>=1.4.1 in c:\\users\\shubh bhateja\\appdata\\local\\programs\\python\\python312\\lib\\site-packages (from pandas-profiling) (1.13.1)\n",
      "Requirement already satisfied: pandas!=1.0.0,!=1.0.1,!=1.0.2,!=1.1.0,>=0.25.3 in c:\\users\\shubh bhateja\\appdata\\local\\programs\\python\\python312\\lib\\site-packages (from pandas-profiling) (2.2.2)\n",
      "Requirement already satisfied: matplotlib>=3.2.0 in c:\\users\\shubh bhateja\\appdata\\local\\programs\\python\\python312\\lib\\site-packages (from pandas-profiling) (3.8.4)\n",
      "Requirement already satisfied: pydantic>=1.8.1 in c:\\users\\shubh bhateja\\appdata\\local\\programs\\python\\python312\\lib\\site-packages (from pandas-profiling) (2.10.6)\n",
      "Requirement already satisfied: PyYAML>=5.0.0 in c:\\users\\shubh bhateja\\appdata\\local\\programs\\python\\python312\\lib\\site-packages (from pandas-profiling) (6.0.2)\n",
      "Requirement already satisfied: jinja2>=2.11.1 in c:\\users\\shubh bhateja\\appdata\\local\\programs\\python\\python312\\lib\\site-packages (from pandas-profiling) (3.1.5)\n",
      "Requirement already satisfied: markupsafe~=2.1.1 in c:\\users\\shubh bhateja\\appdata\\local\\programs\\python\\python312\\lib\\site-packages (from pandas-profiling) (2.1.5)\n",
      "Requirement already satisfied: visions==0.7.4 in c:\\users\\shubh bhateja\\appdata\\local\\programs\\python\\python312\\lib\\site-packages (from visions[type_image_path]==0.7.4->pandas-profiling) (0.7.4)\n",
      "Requirement already satisfied: numpy>=1.16.0 in c:\\users\\shubh bhateja\\appdata\\local\\programs\\python\\python312\\lib\\site-packages (from pandas-profiling) (1.26.4)\n",
      "Requirement already satisfied: htmlmin>=0.1.12 in c:\\users\\shubh bhateja\\appdata\\local\\programs\\python\\python312\\lib\\site-packages (from pandas-profiling) (0.1.12)\n",
      "Requirement already satisfied: missingno>=0.4.2 in c:\\users\\shubh bhateja\\appdata\\local\\programs\\python\\python312\\lib\\site-packages (from pandas-profiling) (0.5.2)\n",
      "Requirement already satisfied: phik>=0.11.1 in c:\\users\\shubh bhateja\\appdata\\local\\programs\\python\\python312\\lib\\site-packages (from pandas-profiling) (0.12.4)\n",
      "Requirement already satisfied: tangled-up-in-unicode==0.2.0 in c:\\users\\shubh bhateja\\appdata\\local\\programs\\python\\python312\\lib\\site-packages (from pandas-profiling) (0.2.0)\n",
      "Requirement already satisfied: requests>=2.24.0 in c:\\users\\shubh bhateja\\appdata\\local\\programs\\python\\python312\\lib\\site-packages (from pandas-profiling) (2.32.3)\n",
      "Requirement already satisfied: tqdm>=4.48.2 in c:\\users\\shubh bhateja\\appdata\\local\\programs\\python\\python312\\lib\\site-packages (from pandas-profiling) (4.67.1)\n",
      "Requirement already satisfied: seaborn>=0.10.1 in c:\\users\\shubh bhateja\\appdata\\local\\programs\\python\\python312\\lib\\site-packages (from pandas-profiling) (0.13.2)\n",
      "Requirement already satisfied: multimethod>=1.4 in c:\\users\\shubh bhateja\\appdata\\local\\programs\\python\\python312\\lib\\site-packages (from pandas-profiling) (2.0)\n",
      "Requirement already satisfied: attrs>=19.3.0 in c:\\users\\shubh bhateja\\appdata\\local\\programs\\python\\python312\\lib\\site-packages (from visions==0.7.4->visions[type_image_path]==0.7.4->pandas-profiling) (23.2.0)\n",
      "Requirement already satisfied: networkx>=2.4 in c:\\users\\shubh bhateja\\appdata\\local\\programs\\python\\python312\\lib\\site-packages (from visions==0.7.4->visions[type_image_path]==0.7.4->pandas-profiling) (3.4.2)\n",
      "Requirement already satisfied: imagehash in c:\\users\\shubh bhateja\\appdata\\local\\programs\\python\\python312\\lib\\site-packages (from visions[type_image_path]==0.7.4->pandas-profiling) (4.3.1)\n",
      "Requirement already satisfied: Pillow in c:\\users\\shubh bhateja\\appdata\\local\\programs\\python\\python312\\lib\\site-packages (from visions[type_image_path]==0.7.4->pandas-profiling) (10.3.0)\n",
      "Requirement already satisfied: contourpy>=1.0.1 in c:\\users\\shubh bhateja\\appdata\\local\\programs\\python\\python312\\lib\\site-packages (from matplotlib>=3.2.0->pandas-profiling) (1.2.1)\n",
      "Requirement already satisfied: cycler>=0.10 in c:\\users\\shubh bhateja\\appdata\\local\\programs\\python\\python312\\lib\\site-packages (from matplotlib>=3.2.0->pandas-profiling) (0.12.1)\n",
      "Requirement already satisfied: fonttools>=4.22.0 in c:\\users\\shubh bhateja\\appdata\\local\\programs\\python\\python312\\lib\\site-packages (from matplotlib>=3.2.0->pandas-profiling) (4.51.0)\n",
      "Requirement already satisfied: kiwisolver>=1.3.1 in c:\\users\\shubh bhateja\\appdata\\local\\programs\\python\\python312\\lib\\site-packages (from matplotlib>=3.2.0->pandas-profiling) (1.4.5)\n",
      "Requirement already satisfied: packaging>=20.0 in c:\\users\\shubh bhateja\\appdata\\local\\programs\\python\\python312\\lib\\site-packages (from matplotlib>=3.2.0->pandas-profiling) (24.0)\n",
      "Requirement already satisfied: pyparsing>=2.3.1 in c:\\users\\shubh bhateja\\appdata\\local\\programs\\python\\python312\\lib\\site-packages (from matplotlib>=3.2.0->pandas-profiling) (3.1.2)\n",
      "Requirement already satisfied: python-dateutil>=2.7 in c:\\users\\shubh bhateja\\appdata\\local\\programs\\python\\python312\\lib\\site-packages (from matplotlib>=3.2.0->pandas-profiling) (2.9.0.post0)\n",
      "Requirement already satisfied: pytz>=2020.1 in c:\\users\\shubh bhateja\\appdata\\local\\programs\\python\\python312\\lib\\site-packages (from pandas!=1.0.0,!=1.0.1,!=1.0.2,!=1.1.0,>=0.25.3->pandas-profiling) (2024.1)\n",
      "Requirement already satisfied: tzdata>=2022.7 in c:\\users\\shubh bhateja\\appdata\\local\\programs\\python\\python312\\lib\\site-packages (from pandas!=1.0.0,!=1.0.1,!=1.0.2,!=1.1.0,>=0.25.3->pandas-profiling) (2024.1)\n",
      "Requirement already satisfied: annotated-types>=0.6.0 in c:\\users\\shubh bhateja\\appdata\\local\\programs\\python\\python312\\lib\\site-packages (from pydantic>=1.8.1->pandas-profiling) (0.7.0)\n",
      "Requirement already satisfied: pydantic-core==2.27.2 in c:\\users\\shubh bhateja\\appdata\\local\\programs\\python\\python312\\lib\\site-packages (from pydantic>=1.8.1->pandas-profiling) (2.27.2)\n",
      "Requirement already satisfied: typing-extensions>=4.12.2 in c:\\users\\shubh bhateja\\appdata\\local\\programs\\python\\python312\\lib\\site-packages (from pydantic>=1.8.1->pandas-profiling) (4.12.2)\n",
      "Requirement already satisfied: charset-normalizer<4,>=2 in c:\\users\\shubh bhateja\\appdata\\local\\programs\\python\\python312\\lib\\site-packages (from requests>=2.24.0->pandas-profiling) (3.4.1)\n",
      "Requirement already satisfied: idna<4,>=2.5 in c:\\users\\shubh bhateja\\appdata\\local\\programs\\python\\python312\\lib\\site-packages (from requests>=2.24.0->pandas-profiling) (3.10)\n",
      "Requirement already satisfied: urllib3<3,>=1.21.1 in c:\\users\\shubh bhateja\\appdata\\local\\programs\\python\\python312\\lib\\site-packages (from requests>=2.24.0->pandas-profiling) (2.3.0)\n",
      "Requirement already satisfied: certifi>=2017.4.17 in c:\\users\\shubh bhateja\\appdata\\local\\programs\\python\\python312\\lib\\site-packages (from requests>=2.24.0->pandas-profiling) (2024.12.14)\n",
      "Requirement already satisfied: colorama in c:\\users\\shubh bhateja\\appdata\\roaming\\python\\python312\\site-packages (from tqdm>=4.48.2->pandas-profiling) (0.4.6)\n",
      "Requirement already satisfied: six>=1.5 in c:\\users\\shubh bhateja\\appdata\\local\\programs\\python\\python312\\lib\\site-packages (from python-dateutil>=2.7->matplotlib>=3.2.0->pandas-profiling) (1.16.0)\n",
      "Requirement already satisfied: PyWavelets in c:\\users\\shubh bhateja\\appdata\\local\\programs\\python\\python312\\lib\\site-packages (from imagehash->visions[type_image_path]==0.7.4->pandas-profiling) (1.8.0)\n",
      "Note: you may need to restart the kernel to use updated packages.\n"
     ]
    },
    {
     "name": "stderr",
     "output_type": "stream",
     "text": [
      "\n",
      "[notice] A new release of pip is available: 24.3.1 -> 25.0\n",
      "[notice] To update, run: python.exe -m pip install --upgrade pip\n"
     ]
    }
   ],
   "source": [
    "pip install pandas-profiling"
   ]
  },
  {
   "cell_type": "code",
   "execution_count": 8,
   "metadata": {},
   "outputs": [
    {
     "name": "stdout",
     "output_type": "stream",
     "text": [
      "Collecting pydantic-settings\n",
      "  Downloading pydantic_settings-2.7.1-py3-none-any.whl.metadata (3.5 kB)\n",
      "Requirement already satisfied: pydantic>=2.7.0 in c:\\users\\shubh bhateja\\appdata\\local\\programs\\python\\python312\\lib\\site-packages (from pydantic-settings) (2.10.6)\n",
      "Collecting python-dotenv>=0.21.0 (from pydantic-settings)\n",
      "  Downloading python_dotenv-1.0.1-py3-none-any.whl.metadata (23 kB)\n",
      "Requirement already satisfied: annotated-types>=0.6.0 in c:\\users\\shubh bhateja\\appdata\\local\\programs\\python\\python312\\lib\\site-packages (from pydantic>=2.7.0->pydantic-settings) (0.7.0)\n",
      "Requirement already satisfied: pydantic-core==2.27.2 in c:\\users\\shubh bhateja\\appdata\\local\\programs\\python\\python312\\lib\\site-packages (from pydantic>=2.7.0->pydantic-settings) (2.27.2)\n",
      "Requirement already satisfied: typing-extensions>=4.12.2 in c:\\users\\shubh bhateja\\appdata\\local\\programs\\python\\python312\\lib\\site-packages (from pydantic>=2.7.0->pydantic-settings) (4.12.2)\n",
      "Downloading pydantic_settings-2.7.1-py3-none-any.whl (29 kB)\n",
      "Downloading python_dotenv-1.0.1-py3-none-any.whl (19 kB)\n",
      "Installing collected packages: python-dotenv, pydantic-settings\n",
      "Successfully installed pydantic-settings-2.7.1 python-dotenv-1.0.1\n",
      "Note: you may need to restart the kernel to use updated packages.\n"
     ]
    },
    {
     "name": "stderr",
     "output_type": "stream",
     "text": [
      "\n",
      "[notice] A new release of pip is available: 24.3.1 -> 25.0\n",
      "[notice] To update, run: python.exe -m pip install --upgrade pip\n"
     ]
    }
   ],
   "source": [
    "pip install pydantic-settings"
   ]
  },
  {
   "cell_type": "code",
   "execution_count": 9,
   "metadata": {},
   "outputs": [
    {
     "name": "stdout",
     "output_type": "stream",
     "text": [
      "Requirement already satisfied: pandas-profiling in c:\\users\\shubh bhateja\\appdata\\local\\programs\\python\\python312\\lib\\site-packages (3.2.0)\n",
      "Requirement already satisfied: pydantic in c:\\users\\shubh bhateja\\appdata\\local\\programs\\python\\python312\\lib\\site-packages (2.10.6)\n",
      "Requirement already satisfied: joblib~=1.1.0 in c:\\users\\shubh bhateja\\appdata\\local\\programs\\python\\python312\\lib\\site-packages (from pandas-profiling) (1.1.1)\n",
      "Requirement already satisfied: scipy>=1.4.1 in c:\\users\\shubh bhateja\\appdata\\local\\programs\\python\\python312\\lib\\site-packages (from pandas-profiling) (1.13.1)\n",
      "Requirement already satisfied: pandas!=1.0.0,!=1.0.1,!=1.0.2,!=1.1.0,>=0.25.3 in c:\\users\\shubh bhateja\\appdata\\local\\programs\\python\\python312\\lib\\site-packages (from pandas-profiling) (2.2.2)\n",
      "Requirement already satisfied: matplotlib>=3.2.0 in c:\\users\\shubh bhateja\\appdata\\local\\programs\\python\\python312\\lib\\site-packages (from pandas-profiling) (3.8.4)\n",
      "Requirement already satisfied: PyYAML>=5.0.0 in c:\\users\\shubh bhateja\\appdata\\local\\programs\\python\\python312\\lib\\site-packages (from pandas-profiling) (6.0.2)\n",
      "Requirement already satisfied: jinja2>=2.11.1 in c:\\users\\shubh bhateja\\appdata\\local\\programs\\python\\python312\\lib\\site-packages (from pandas-profiling) (3.1.5)\n",
      "Requirement already satisfied: markupsafe~=2.1.1 in c:\\users\\shubh bhateja\\appdata\\local\\programs\\python\\python312\\lib\\site-packages (from pandas-profiling) (2.1.5)\n",
      "Requirement already satisfied: visions==0.7.4 in c:\\users\\shubh bhateja\\appdata\\local\\programs\\python\\python312\\lib\\site-packages (from visions[type_image_path]==0.7.4->pandas-profiling) (0.7.4)\n",
      "Requirement already satisfied: numpy>=1.16.0 in c:\\users\\shubh bhateja\\appdata\\local\\programs\\python\\python312\\lib\\site-packages (from pandas-profiling) (1.26.4)\n",
      "Requirement already satisfied: htmlmin>=0.1.12 in c:\\users\\shubh bhateja\\appdata\\local\\programs\\python\\python312\\lib\\site-packages (from pandas-profiling) (0.1.12)\n",
      "Requirement already satisfied: missingno>=0.4.2 in c:\\users\\shubh bhateja\\appdata\\local\\programs\\python\\python312\\lib\\site-packages (from pandas-profiling) (0.5.2)\n",
      "Requirement already satisfied: phik>=0.11.1 in c:\\users\\shubh bhateja\\appdata\\local\\programs\\python\\python312\\lib\\site-packages (from pandas-profiling) (0.12.4)\n",
      "Requirement already satisfied: tangled-up-in-unicode==0.2.0 in c:\\users\\shubh bhateja\\appdata\\local\\programs\\python\\python312\\lib\\site-packages (from pandas-profiling) (0.2.0)\n",
      "Requirement already satisfied: requests>=2.24.0 in c:\\users\\shubh bhateja\\appdata\\local\\programs\\python\\python312\\lib\\site-packages (from pandas-profiling) (2.32.3)\n",
      "Requirement already satisfied: tqdm>=4.48.2 in c:\\users\\shubh bhateja\\appdata\\local\\programs\\python\\python312\\lib\\site-packages (from pandas-profiling) (4.67.1)\n",
      "Requirement already satisfied: seaborn>=0.10.1 in c:\\users\\shubh bhateja\\appdata\\local\\programs\\python\\python312\\lib\\site-packages (from pandas-profiling) (0.13.2)\n",
      "Requirement already satisfied: multimethod>=1.4 in c:\\users\\shubh bhateja\\appdata\\local\\programs\\python\\python312\\lib\\site-packages (from pandas-profiling) (2.0)\n",
      "Requirement already satisfied: attrs>=19.3.0 in c:\\users\\shubh bhateja\\appdata\\local\\programs\\python\\python312\\lib\\site-packages (from visions==0.7.4->visions[type_image_path]==0.7.4->pandas-profiling) (23.2.0)\n",
      "Requirement already satisfied: networkx>=2.4 in c:\\users\\shubh bhateja\\appdata\\local\\programs\\python\\python312\\lib\\site-packages (from visions==0.7.4->visions[type_image_path]==0.7.4->pandas-profiling) (3.4.2)\n",
      "Requirement already satisfied: imagehash in c:\\users\\shubh bhateja\\appdata\\local\\programs\\python\\python312\\lib\\site-packages (from visions[type_image_path]==0.7.4->pandas-profiling) (4.3.1)\n",
      "Requirement already satisfied: Pillow in c:\\users\\shubh bhateja\\appdata\\local\\programs\\python\\python312\\lib\\site-packages (from visions[type_image_path]==0.7.4->pandas-profiling) (10.3.0)\n",
      "Requirement already satisfied: annotated-types>=0.6.0 in c:\\users\\shubh bhateja\\appdata\\local\\programs\\python\\python312\\lib\\site-packages (from pydantic) (0.7.0)\n",
      "Requirement already satisfied: pydantic-core==2.27.2 in c:\\users\\shubh bhateja\\appdata\\local\\programs\\python\\python312\\lib\\site-packages (from pydantic) (2.27.2)\n",
      "Requirement already satisfied: typing-extensions>=4.12.2 in c:\\users\\shubh bhateja\\appdata\\local\\programs\\python\\python312\\lib\\site-packages (from pydantic) (4.12.2)\n",
      "Requirement already satisfied: contourpy>=1.0.1 in c:\\users\\shubh bhateja\\appdata\\local\\programs\\python\\python312\\lib\\site-packages (from matplotlib>=3.2.0->pandas-profiling) (1.2.1)\n",
      "Requirement already satisfied: cycler>=0.10 in c:\\users\\shubh bhateja\\appdata\\local\\programs\\python\\python312\\lib\\site-packages (from matplotlib>=3.2.0->pandas-profiling) (0.12.1)\n",
      "Requirement already satisfied: fonttools>=4.22.0 in c:\\users\\shubh bhateja\\appdata\\local\\programs\\python\\python312\\lib\\site-packages (from matplotlib>=3.2.0->pandas-profiling) (4.51.0)\n",
      "Requirement already satisfied: kiwisolver>=1.3.1 in c:\\users\\shubh bhateja\\appdata\\local\\programs\\python\\python312\\lib\\site-packages (from matplotlib>=3.2.0->pandas-profiling) (1.4.5)\n",
      "Requirement already satisfied: packaging>=20.0 in c:\\users\\shubh bhateja\\appdata\\local\\programs\\python\\python312\\lib\\site-packages (from matplotlib>=3.2.0->pandas-profiling) (24.0)\n",
      "Requirement already satisfied: pyparsing>=2.3.1 in c:\\users\\shubh bhateja\\appdata\\local\\programs\\python\\python312\\lib\\site-packages (from matplotlib>=3.2.0->pandas-profiling) (3.1.2)\n",
      "Requirement already satisfied: python-dateutil>=2.7 in c:\\users\\shubh bhateja\\appdata\\local\\programs\\python\\python312\\lib\\site-packages (from matplotlib>=3.2.0->pandas-profiling) (2.9.0.post0)\n",
      "Requirement already satisfied: pytz>=2020.1 in c:\\users\\shubh bhateja\\appdata\\local\\programs\\python\\python312\\lib\\site-packages (from pandas!=1.0.0,!=1.0.1,!=1.0.2,!=1.1.0,>=0.25.3->pandas-profiling) (2024.1)\n",
      "Requirement already satisfied: tzdata>=2022.7 in c:\\users\\shubh bhateja\\appdata\\local\\programs\\python\\python312\\lib\\site-packages (from pandas!=1.0.0,!=1.0.1,!=1.0.2,!=1.1.0,>=0.25.3->pandas-profiling) (2024.1)\n",
      "Requirement already satisfied: charset-normalizer<4,>=2 in c:\\users\\shubh bhateja\\appdata\\local\\programs\\python\\python312\\lib\\site-packages (from requests>=2.24.0->pandas-profiling) (3.4.1)\n",
      "Requirement already satisfied: idna<4,>=2.5 in c:\\users\\shubh bhateja\\appdata\\local\\programs\\python\\python312\\lib\\site-packages (from requests>=2.24.0->pandas-profiling) (3.10)\n",
      "Requirement already satisfied: urllib3<3,>=1.21.1 in c:\\users\\shubh bhateja\\appdata\\local\\programs\\python\\python312\\lib\\site-packages (from requests>=2.24.0->pandas-profiling) (2.3.0)\n",
      "Requirement already satisfied: certifi>=2017.4.17 in c:\\users\\shubh bhateja\\appdata\\local\\programs\\python\\python312\\lib\\site-packages (from requests>=2.24.0->pandas-profiling) (2024.12.14)\n",
      "Requirement already satisfied: colorama in c:\\users\\shubh bhateja\\appdata\\roaming\\python\\python312\\site-packages (from tqdm>=4.48.2->pandas-profiling) (0.4.6)\n",
      "Requirement already satisfied: six>=1.5 in c:\\users\\shubh bhateja\\appdata\\local\\programs\\python\\python312\\lib\\site-packages (from python-dateutil>=2.7->matplotlib>=3.2.0->pandas-profiling) (1.16.0)\n",
      "Requirement already satisfied: PyWavelets in c:\\users\\shubh bhateja\\appdata\\local\\programs\\python\\python312\\lib\\site-packages (from imagehash->visions[type_image_path]==0.7.4->pandas-profiling) (1.8.0)\n",
      "Note: you may need to restart the kernel to use updated packages.\n"
     ]
    },
    {
     "name": "stderr",
     "output_type": "stream",
     "text": [
      "\n",
      "[notice] A new release of pip is available: 24.3.1 -> 25.0\n",
      "[notice] To update, run: python.exe -m pip install --upgrade pip\n"
     ]
    }
   ],
   "source": [
    "pip install --upgrade pandas-profiling pydantic"
   ]
  },
  {
   "cell_type": "code",
   "execution_count": 13,
   "metadata": {},
   "outputs": [
    {
     "name": "stdout",
     "output_type": "stream",
     "text": [
      "Requirement already satisfied: ydata-profiling in c:\\users\\shubh bhateja\\appdata\\local\\programs\\python\\python312\\lib\\site-packages (4.12.2)\n",
      "Requirement already satisfied: scipy<1.16,>=1.4.1 in c:\\users\\shubh bhateja\\appdata\\local\\programs\\python\\python312\\lib\\site-packages (from ydata-profiling) (1.13.1)\n",
      "Requirement already satisfied: pandas!=1.4.0,<3,>1.1 in c:\\users\\shubh bhateja\\appdata\\local\\programs\\python\\python312\\lib\\site-packages (from ydata-profiling) (2.2.2)\n",
      "Requirement already satisfied: matplotlib>=3.5 in c:\\users\\shubh bhateja\\appdata\\local\\programs\\python\\python312\\lib\\site-packages (from ydata-profiling) (3.8.4)\n",
      "Requirement already satisfied: pydantic>=2 in c:\\users\\shubh bhateja\\appdata\\local\\programs\\python\\python312\\lib\\site-packages (from ydata-profiling) (2.10.6)\n",
      "Requirement already satisfied: PyYAML<6.1,>=5.0.0 in c:\\users\\shubh bhateja\\appdata\\local\\programs\\python\\python312\\lib\\site-packages (from ydata-profiling) (6.0.2)\n",
      "Requirement already satisfied: jinja2<3.2,>=2.11.1 in c:\\users\\shubh bhateja\\appdata\\local\\programs\\python\\python312\\lib\\site-packages (from ydata-profiling) (3.1.5)\n",
      "Requirement already satisfied: visions<0.8.0,>=0.7.5 in c:\\users\\shubh bhateja\\appdata\\local\\programs\\python\\python312\\lib\\site-packages (from visions[type_image_path]<0.8.0,>=0.7.5->ydata-profiling) (0.7.6)\n",
      "Requirement already satisfied: numpy<2.2,>=1.16.0 in c:\\users\\shubh bhateja\\appdata\\local\\programs\\python\\python312\\lib\\site-packages (from ydata-profiling) (1.26.4)\n",
      "Requirement already satisfied: htmlmin==0.1.12 in c:\\users\\shubh bhateja\\appdata\\local\\programs\\python\\python312\\lib\\site-packages (from ydata-profiling) (0.1.12)\n",
      "Requirement already satisfied: phik<0.13,>=0.11.1 in c:\\users\\shubh bhateja\\appdata\\local\\programs\\python\\python312\\lib\\site-packages (from ydata-profiling) (0.12.4)\n",
      "Requirement already satisfied: requests<3,>=2.24.0 in c:\\users\\shubh bhateja\\appdata\\local\\programs\\python\\python312\\lib\\site-packages (from ydata-profiling) (2.32.3)\n",
      "Requirement already satisfied: tqdm<5,>=4.48.2 in c:\\users\\shubh bhateja\\appdata\\local\\programs\\python\\python312\\lib\\site-packages (from ydata-profiling) (4.67.1)\n",
      "Requirement already satisfied: seaborn<0.14,>=0.10.1 in c:\\users\\shubh bhateja\\appdata\\local\\programs\\python\\python312\\lib\\site-packages (from ydata-profiling) (0.13.2)\n",
      "Requirement already satisfied: multimethod<2,>=1.4 in c:\\users\\shubh bhateja\\appdata\\local\\programs\\python\\python312\\lib\\site-packages (from ydata-profiling) (1.12)\n",
      "Requirement already satisfied: statsmodels<1,>=0.13.2 in c:\\users\\shubh bhateja\\appdata\\local\\programs\\python\\python312\\lib\\site-packages (from ydata-profiling) (0.14.4)\n",
      "Requirement already satisfied: typeguard<5,>=3 in c:\\users\\shubh bhateja\\appdata\\local\\programs\\python\\python312\\lib\\site-packages (from ydata-profiling) (4.4.1)\n",
      "Requirement already satisfied: imagehash==4.3.1 in c:\\users\\shubh bhateja\\appdata\\local\\programs\\python\\python312\\lib\\site-packages (from ydata-profiling) (4.3.1)\n",
      "Requirement already satisfied: wordcloud>=1.9.3 in c:\\users\\shubh bhateja\\appdata\\local\\programs\\python\\python312\\lib\\site-packages (from ydata-profiling) (1.9.4)\n",
      "Requirement already satisfied: dacite>=1.8 in c:\\users\\shubh bhateja\\appdata\\local\\programs\\python\\python312\\lib\\site-packages (from ydata-profiling) (1.9.1)\n",
      "Requirement already satisfied: PyWavelets in c:\\users\\shubh bhateja\\appdata\\local\\programs\\python\\python312\\lib\\site-packages (from imagehash==4.3.1->ydata-profiling) (1.8.0)\n",
      "Requirement already satisfied: pillow in c:\\users\\shubh bhateja\\appdata\\local\\programs\\python\\python312\\lib\\site-packages (from imagehash==4.3.1->ydata-profiling) (10.3.0)\n",
      "Requirement already satisfied: MarkupSafe>=2.0 in c:\\users\\shubh bhateja\\appdata\\local\\programs\\python\\python312\\lib\\site-packages (from jinja2<3.2,>=2.11.1->ydata-profiling) (2.1.5)\n",
      "Requirement already satisfied: contourpy>=1.0.1 in c:\\users\\shubh bhateja\\appdata\\local\\programs\\python\\python312\\lib\\site-packages (from matplotlib>=3.5->ydata-profiling) (1.2.1)\n",
      "Requirement already satisfied: cycler>=0.10 in c:\\users\\shubh bhateja\\appdata\\local\\programs\\python\\python312\\lib\\site-packages (from matplotlib>=3.5->ydata-profiling) (0.12.1)\n",
      "Requirement already satisfied: fonttools>=4.22.0 in c:\\users\\shubh bhateja\\appdata\\local\\programs\\python\\python312\\lib\\site-packages (from matplotlib>=3.5->ydata-profiling) (4.51.0)\n",
      "Requirement already satisfied: kiwisolver>=1.3.1 in c:\\users\\shubh bhateja\\appdata\\local\\programs\\python\\python312\\lib\\site-packages (from matplotlib>=3.5->ydata-profiling) (1.4.5)\n",
      "Requirement already satisfied: packaging>=20.0 in c:\\users\\shubh bhateja\\appdata\\local\\programs\\python\\python312\\lib\\site-packages (from matplotlib>=3.5->ydata-profiling) (24.0)\n",
      "Requirement already satisfied: pyparsing>=2.3.1 in c:\\users\\shubh bhateja\\appdata\\local\\programs\\python\\python312\\lib\\site-packages (from matplotlib>=3.5->ydata-profiling) (3.1.2)\n",
      "Requirement already satisfied: python-dateutil>=2.7 in c:\\users\\shubh bhateja\\appdata\\local\\programs\\python\\python312\\lib\\site-packages (from matplotlib>=3.5->ydata-profiling) (2.9.0.post0)\n",
      "Requirement already satisfied: pytz>=2020.1 in c:\\users\\shubh bhateja\\appdata\\local\\programs\\python\\python312\\lib\\site-packages (from pandas!=1.4.0,<3,>1.1->ydata-profiling) (2024.1)\n",
      "Requirement already satisfied: tzdata>=2022.7 in c:\\users\\shubh bhateja\\appdata\\local\\programs\\python\\python312\\lib\\site-packages (from pandas!=1.4.0,<3,>1.1->ydata-profiling) (2024.1)\n",
      "Requirement already satisfied: joblib>=0.14.1 in c:\\users\\shubh bhateja\\appdata\\local\\programs\\python\\python312\\lib\\site-packages (from phik<0.13,>=0.11.1->ydata-profiling) (1.1.1)\n",
      "Requirement already satisfied: annotated-types>=0.6.0 in c:\\users\\shubh bhateja\\appdata\\local\\programs\\python\\python312\\lib\\site-packages (from pydantic>=2->ydata-profiling) (0.7.0)\n",
      "Requirement already satisfied: pydantic-core==2.27.2 in c:\\users\\shubh bhateja\\appdata\\local\\programs\\python\\python312\\lib\\site-packages (from pydantic>=2->ydata-profiling) (2.27.2)\n",
      "Requirement already satisfied: typing-extensions>=4.12.2 in c:\\users\\shubh bhateja\\appdata\\local\\programs\\python\\python312\\lib\\site-packages (from pydantic>=2->ydata-profiling) (4.12.2)\n",
      "Requirement already satisfied: charset-normalizer<4,>=2 in c:\\users\\shubh bhateja\\appdata\\local\\programs\\python\\python312\\lib\\site-packages (from requests<3,>=2.24.0->ydata-profiling) (3.4.1)\n",
      "Requirement already satisfied: idna<4,>=2.5 in c:\\users\\shubh bhateja\\appdata\\local\\programs\\python\\python312\\lib\\site-packages (from requests<3,>=2.24.0->ydata-profiling) (3.10)\n",
      "Requirement already satisfied: urllib3<3,>=1.21.1 in c:\\users\\shubh bhateja\\appdata\\local\\programs\\python\\python312\\lib\\site-packages (from requests<3,>=2.24.0->ydata-profiling) (2.3.0)\n",
      "Requirement already satisfied: certifi>=2017.4.17 in c:\\users\\shubh bhateja\\appdata\\local\\programs\\python\\python312\\lib\\site-packages (from requests<3,>=2.24.0->ydata-profiling) (2024.12.14)\n",
      "Requirement already satisfied: patsy>=0.5.6 in c:\\users\\shubh bhateja\\appdata\\local\\programs\\python\\python312\\lib\\site-packages (from statsmodels<1,>=0.13.2->ydata-profiling) (1.0.1)\n",
      "Requirement already satisfied: colorama in c:\\users\\shubh bhateja\\appdata\\roaming\\python\\python312\\site-packages (from tqdm<5,>=4.48.2->ydata-profiling) (0.4.6)\n",
      "Requirement already satisfied: attrs>=19.3.0 in c:\\users\\shubh bhateja\\appdata\\local\\programs\\python\\python312\\lib\\site-packages (from visions<0.8.0,>=0.7.5->visions[type_image_path]<0.8.0,>=0.7.5->ydata-profiling) (23.2.0)\n",
      "Requirement already satisfied: networkx>=2.4 in c:\\users\\shubh bhateja\\appdata\\local\\programs\\python\\python312\\lib\\site-packages (from visions<0.8.0,>=0.7.5->visions[type_image_path]<0.8.0,>=0.7.5->ydata-profiling) (3.4.2)\n",
      "Requirement already satisfied: six>=1.5 in c:\\users\\shubh bhateja\\appdata\\local\\programs\\python\\python312\\lib\\site-packages (from python-dateutil>=2.7->matplotlib>=3.5->ydata-profiling) (1.16.0)\n",
      "Note: you may need to restart the kernel to use updated packages.\n"
     ]
    },
    {
     "name": "stderr",
     "output_type": "stream",
     "text": [
      "\n",
      "[notice] A new release of pip is available: 24.3.1 -> 25.0\n",
      "[notice] To update, run: python.exe -m pip install --upgrade pip\n"
     ]
    }
   ],
   "source": [
    "pip install ydata-profiling"
   ]
  },
  {
   "cell_type": "code",
   "execution_count": 21,
   "metadata": {},
   "outputs": [
    {
     "ename": "ModuleNotFoundError",
     "evalue": "No module named 'pkg_resources'",
     "output_type": "error",
     "traceback": [
      "\u001b[1;31m---------------------------------------------------------------------------\u001b[0m",
      "\u001b[1;31mModuleNotFoundError\u001b[0m                       Traceback (most recent call last)",
      "Cell \u001b[1;32mIn[21], line 1\u001b[0m\n\u001b[1;32m----> 1\u001b[0m \u001b[38;5;28;01mfrom\u001b[39;00m \u001b[38;5;21;01mydata_profiling\u001b[39;00m \u001b[38;5;28;01mimport\u001b[39;00m ProfileReport\n\u001b[0;32m      2\u001b[0m prof \u001b[38;5;241m=\u001b[39m ProfileReport(df)\n\u001b[0;32m      3\u001b[0m prof\u001b[38;5;241m.\u001b[39mto_file(output_file\u001b[38;5;241m=\u001b[39m\u001b[38;5;124m\"\u001b[39m\u001b[38;5;124mtitanic_profiling.html\u001b[39m\u001b[38;5;124m\"\u001b[39m)\n",
      "File \u001b[1;32mc:\\Users\\Shubh Bhateja\\AppData\\Local\\Programs\\Python\\Python312\\Lib\\site-packages\\ydata_profiling\\__init__.py:10\u001b[0m\n\u001b[0;32m      6\u001b[0m \u001b[38;5;28;01mimport\u001b[39;00m \u001b[38;5;21;01mwarnings\u001b[39;00m  \u001b[38;5;66;03m# isort:skip # noqa\u001b[39;00m\n\u001b[0;32m      8\u001b[0m \u001b[38;5;28;01mimport\u001b[39;00m \u001b[38;5;21;01mimportlib\u001b[39;00m\u001b[38;5;21;01m.\u001b[39;00m\u001b[38;5;21;01mutil\u001b[39;00m  \u001b[38;5;66;03m# isort:skip # noqa\u001b[39;00m\n\u001b[1;32m---> 10\u001b[0m \u001b[38;5;28;01mfrom\u001b[39;00m \u001b[38;5;21;01mydata_profiling\u001b[39;00m\u001b[38;5;21;01m.\u001b[39;00m\u001b[38;5;21;01mcompare_reports\u001b[39;00m \u001b[38;5;28;01mimport\u001b[39;00m compare  \u001b[38;5;66;03m# isort:skip # noqa\u001b[39;00m\n\u001b[0;32m     11\u001b[0m \u001b[38;5;28;01mfrom\u001b[39;00m \u001b[38;5;21;01mydata_profiling\u001b[39;00m\u001b[38;5;21;01m.\u001b[39;00m\u001b[38;5;21;01mcontroller\u001b[39;00m \u001b[38;5;28;01mimport\u001b[39;00m pandas_decorator  \u001b[38;5;66;03m# isort:skip # noqa\u001b[39;00m\n\u001b[0;32m     12\u001b[0m \u001b[38;5;28;01mfrom\u001b[39;00m \u001b[38;5;21;01mydata_profiling\u001b[39;00m\u001b[38;5;21;01m.\u001b[39;00m\u001b[38;5;21;01mprofile_report\u001b[39;00m \u001b[38;5;28;01mimport\u001b[39;00m ProfileReport  \u001b[38;5;66;03m# isort:skip # noqa\u001b[39;00m\n",
      "File \u001b[1;32mc:\\Users\\Shubh Bhateja\\AppData\\Local\\Programs\\Python\\Python312\\Lib\\site-packages\\ydata_profiling\\compare_reports.py:12\u001b[0m\n\u001b[0;32m     10\u001b[0m \u001b[38;5;28;01mfrom\u001b[39;00m \u001b[38;5;21;01mydata_profiling\u001b[39;00m\u001b[38;5;21;01m.\u001b[39;00m\u001b[38;5;21;01mmodel\u001b[39;00m \u001b[38;5;28;01mimport\u001b[39;00m BaseDescription\n\u001b[0;32m     11\u001b[0m \u001b[38;5;28;01mfrom\u001b[39;00m \u001b[38;5;21;01mydata_profiling\u001b[39;00m\u001b[38;5;21;01m.\u001b[39;00m\u001b[38;5;21;01mmodel\u001b[39;00m\u001b[38;5;21;01m.\u001b[39;00m\u001b[38;5;21;01malerts\u001b[39;00m \u001b[38;5;28;01mimport\u001b[39;00m Alert\n\u001b[1;32m---> 12\u001b[0m \u001b[38;5;28;01mfrom\u001b[39;00m \u001b[38;5;21;01mydata_profiling\u001b[39;00m\u001b[38;5;21;01m.\u001b[39;00m\u001b[38;5;21;01mprofile_report\u001b[39;00m \u001b[38;5;28;01mimport\u001b[39;00m ProfileReport\n\u001b[0;32m     15\u001b[0m \u001b[38;5;28;01mdef\u001b[39;00m \u001b[38;5;21m_should_wrap\u001b[39m(v1: Any, v2: Any) \u001b[38;5;241m-\u001b[39m\u001b[38;5;241m>\u001b[39m \u001b[38;5;28mbool\u001b[39m:\n\u001b[0;32m     16\u001b[0m     \u001b[38;5;28;01mif\u001b[39;00m \u001b[38;5;28misinstance\u001b[39m(v1, (\u001b[38;5;28mlist\u001b[39m, \u001b[38;5;28mdict\u001b[39m)):\n",
      "File \u001b[1;32mc:\\Users\\Shubh Bhateja\\AppData\\Local\\Programs\\Python\\Python312\\Lib\\site-packages\\ydata_profiling\\profile_report.py:9\u001b[0m\n\u001b[0;32m      7\u001b[0m \u001b[38;5;28;01mwith\u001b[39;00m warnings\u001b[38;5;241m.\u001b[39mcatch_warnings():\n\u001b[0;32m      8\u001b[0m     warnings\u001b[38;5;241m.\u001b[39msimplefilter(\u001b[38;5;124m\"\u001b[39m\u001b[38;5;124mignore\u001b[39m\u001b[38;5;124m\"\u001b[39m)\n\u001b[1;32m----> 9\u001b[0m     \u001b[38;5;28;01mimport\u001b[39;00m \u001b[38;5;21;01mpkg_resources\u001b[39;00m\n\u001b[0;32m     11\u001b[0m \u001b[38;5;28;01mtry\u001b[39;00m:\n\u001b[0;32m     12\u001b[0m     \u001b[38;5;28;01mfrom\u001b[39;00m \u001b[38;5;21;01mpyspark\u001b[39;00m\u001b[38;5;21;01m.\u001b[39;00m\u001b[38;5;21;01msql\u001b[39;00m \u001b[38;5;28;01mimport\u001b[39;00m DataFrame \u001b[38;5;28;01mas\u001b[39;00m sDataFrame\n",
      "\u001b[1;31mModuleNotFoundError\u001b[0m: No module named 'pkg_resources'"
     ]
    }
   ],
   "source": [
    "import\n",
    "from ydata_profiling import ProfileReport\n",
    "prof = ProfileReport(df)\n",
    "prof.to_file(output_file=\"titanic_profiling.html\")"
   ]
  },
  {
   "cell_type": "code",
   "execution_count": 17,
   "metadata": {},
   "outputs": [
    {
     "name": "stdout",
     "output_type": "stream",
     "text": [
      "Requirement already satisfied: pydantic-settings in c:\\users\\shubh bhateja\\appdata\\local\\programs\\python\\python312\\lib\\site-packages (2.7.1)\n",
      "Requirement already satisfied: pydantic>=2.7.0 in c:\\users\\shubh bhateja\\appdata\\local\\programs\\python\\python312\\lib\\site-packages (from pydantic-settings) (2.10.6)\n",
      "Requirement already satisfied: python-dotenv>=0.21.0 in c:\\users\\shubh bhateja\\appdata\\local\\programs\\python\\python312\\lib\\site-packages (from pydantic-settings) (1.0.1)\n",
      "Requirement already satisfied: annotated-types>=0.6.0 in c:\\users\\shubh bhateja\\appdata\\local\\programs\\python\\python312\\lib\\site-packages (from pydantic>=2.7.0->pydantic-settings) (0.7.0)\n",
      "Requirement already satisfied: pydantic-core==2.27.2 in c:\\users\\shubh bhateja\\appdata\\local\\programs\\python\\python312\\lib\\site-packages (from pydantic>=2.7.0->pydantic-settings) (2.27.2)\n",
      "Requirement already satisfied: typing-extensions>=4.12.2 in c:\\users\\shubh bhateja\\appdata\\local\\programs\\python\\python312\\lib\\site-packages (from pydantic>=2.7.0->pydantic-settings) (4.12.2)\n",
      "Note: you may need to restart the kernel to use updated packages.\n"
     ]
    },
    {
     "name": "stderr",
     "output_type": "stream",
     "text": [
      "\n",
      "[notice] A new release of pip is available: 24.3.1 -> 25.0\n",
      "[notice] To update, run: python.exe -m pip install --upgrade pip\n"
     ]
    }
   ],
   "source": [
    "pip install pydantic-settings"
   ]
  },
  {
   "cell_type": "code",
   "execution_count": 19,
   "metadata": {},
   "outputs": [
    {
     "name": "stdout",
     "output_type": "stream",
     "text": [
      "Requirement already satisfied: pandas in c:\\users\\shubh bhateja\\appdata\\local\\programs\\python\\python312\\lib\\site-packages (2.2.3)\n",
      "Requirement already satisfied: numpy>=1.26.0 in c:\\users\\shubh bhateja\\appdata\\local\\programs\\python\\python312\\lib\\site-packages (from pandas) (1.26.4)\n",
      "Requirement already satisfied: python-dateutil>=2.8.2 in c:\\users\\shubh bhateja\\appdata\\local\\programs\\python\\python312\\lib\\site-packages (from pandas) (2.9.0.post0)\n",
      "Requirement already satisfied: pytz>=2020.1 in c:\\users\\shubh bhateja\\appdata\\local\\programs\\python\\python312\\lib\\site-packages (from pandas) (2024.1)\n",
      "Requirement already satisfied: tzdata>=2022.7 in c:\\users\\shubh bhateja\\appdata\\local\\programs\\python\\python312\\lib\\site-packages (from pandas) (2024.1)\n",
      "Requirement already satisfied: six>=1.5 in c:\\users\\shubh bhateja\\appdata\\local\\programs\\python\\python312\\lib\\site-packages (from python-dateutil>=2.8.2->pandas) (1.16.0)\n",
      "Note: you may need to restart the kernel to use updated packages.\n"
     ]
    },
    {
     "name": "stderr",
     "output_type": "stream",
     "text": [
      "\n",
      "[notice] A new release of pip is available: 24.3.1 -> 25.0\n",
      "[notice] To update, run: python.exe -m pip install --upgrade pip\n"
     ]
    }
   ],
   "source": [
    "pip install --upgrade pandas"
   ]
  },
  {
   "cell_type": "code",
   "execution_count": null,
   "metadata": {},
   "outputs": [],
   "source": []
  }
 ],
 "metadata": {
  "kernelspec": {
   "display_name": "Python 3",
   "language": "python",
   "name": "python3"
  },
  "language_info": {
   "codemirror_mode": {
    "name": "ipython",
    "version": 3
   },
   "file_extension": ".py",
   "mimetype": "text/x-python",
   "name": "python",
   "nbconvert_exporter": "python",
   "pygments_lexer": "ipython3",
   "version": "3.13.2"
  }
 },
 "nbformat": 4,
 "nbformat_minor": 2
}
